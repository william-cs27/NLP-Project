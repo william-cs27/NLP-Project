{
  "nbformat": 4,
  "nbformat_minor": 0,
  "metadata": {
    "colab": {
      "name": "NLP_miniProject.ipynb",
      "provenance": [],
      "collapsed_sections": []
    },
    "kernelspec": {
      "name": "python3",
      "display_name": "Python 3"
    },
    "language_info": {
      "name": "python"
    }
  },
  "cells": [
    {
      "cell_type": "code",
      "metadata": {
        "id": "UOarZ6c0RpW6"
      },
      "source": [
        "#intialising data sets and importing packages\n",
        "\n",
        "#packages\n",
        "import re\n",
        "\n",
        "#data sets\n",
        "verb_set = ['पढ़','चल','आ','गा','पी','खेल', 'सो', 'देख', 'कर', 'नाच']\n",
        "\n",
        "indefinite_present_tense = ['ता है', 'ते हैं', 'ती है']\n",
        "indefinite_past_tense = ['ता था', 'ते थे', 'ती थी']\n",
        "indefinite_future_tense = ['गा', 'गी', 'गे']\n",
        "continous_present_tense = ['रहा है','रही है','रहे हैं']\n",
        "continous_past_tense = ['रहा था','रही थी','रहे थॆ']\n",
        "continous_future_tense = ['रहा होगा','रही होगी','रहे होंगॆ']\n",
        "perfect_present_tense = ['चुका है','चुकी है','चुकॆ हैं']\n",
        "perfect_past_tense = ['चुका था','चुकी थी','चुकॆ थॆ']\n",
        "perfect_future_tense = ['चुका होगा','चुकी होगी','चुकॆ होंगॆ']\n",
        "verb_suffix = \"ना\""
      ],
      "execution_count": null,
      "outputs": []
    },
    {
      "cell_type": "code",
      "metadata": {
        "id": "hJEjryIEY0vK"
      },
      "source": [
        "#defining function check\n",
        "def check(i,j,inp):\n",
        "  sub_str = i+j\n",
        "  if re.search(i+j, inp) or re.search(i+\" \"+j,inp):\n",
        "    return 1\n",
        "  else:\n",
        "    return 0\n",
        "    "
      ],
      "execution_count": null,
      "outputs": []
    },
    {
      "cell_type": "code",
      "metadata": {
        "colab": {
          "base_uri": "https://localhost:8080/"
        },
        "id": "5QCd9TwPZi55",
        "outputId": "3465b934-2ead-47be-8da8-7e8020671326"
      },
      "source": [
        "inp = input(\"Enter Sentence in Hindi: \\n\")\n",
        "verb_found=\"\"\n",
        "for i in verb_set:\n",
        "  f=0\n",
        "  for j in indefinite_present_tense:\n",
        "    if (check(i, j, inp) == 1):\n",
        "      verb_found = i\n",
        "      f=1\n",
        "      print(\"Indefinite Present Tense\")\n",
        "      break\n",
        "    \n",
        "\n",
        "  for j in indefinite_past_tense:\n",
        "    if f==1:\n",
        "        break\n",
        "    elif (check(i, j, inp) == 1):\n",
        "      verb_found = i\n",
        "      f=1\n",
        "      print(\"Indefinite Past Tense\")\n",
        "      break\n",
        "      \n",
        "  for j in indefinite_future_tense:\n",
        "    if f==1:\n",
        "        break\n",
        "    elif (check(i, j, inp) == 1):\n",
        "      verb_found = i\n",
        "      f=1\n",
        "      print(\"Indefinite Future Tense\")\n",
        "      break\n",
        "\n",
        "  for j in continous_present_tense:\n",
        "    if f==1:\n",
        "        break\n",
        "    elif (check(i, j, inp) == 1):\n",
        "      verb_found = i\n",
        "      f=1\n",
        "      print(\"Continous Present Tense\")\n",
        "      break\n",
        "\n",
        "  for j in continous_past_tense:\n",
        "    if f==1:\n",
        "        break\n",
        "    elif (check(i, j, inp) == 1):\n",
        "      verb_found = i\n",
        "      f=1\n",
        "      print(\"Continous Past Tense\")\n",
        "      break\n",
        "\n",
        "  for j in continous_future_tense:\n",
        "    if f==1:\n",
        "        break\n",
        "    elif (check(i, j, inp) == 1):\n",
        "      verb_found = i\n",
        "      f=1\n",
        "      print(\"Continous Future Tense\")\n",
        "      break\n",
        "\n",
        "  for j in perfect_present_tense:\n",
        "    if f==1:\n",
        "        break\n",
        "    elif (check(i, j, inp) == 1):\n",
        "      verb_found = i\n",
        "      f=1\n",
        "      print(\"Perfect Present Tense\")\n",
        "      break\n",
        "        \n",
        "  for j in perfect_present_tense:\n",
        "    if f==1:\n",
        "        break\n",
        "    elif (check(i, j, inp) == 1):\n",
        "      verb_found = i\n",
        "      f=1\n",
        "      print(\"Perfect Past Tense\")\n",
        "      break\n",
        "        \n",
        "  for j in perfect_future_tense:\n",
        "    if f==1:\n",
        "        break\n",
        "    elif (check(i, j, inp) == 1):\n",
        "      verb_found = i\n",
        "      f=1\n",
        "      print(\"Perfect Future Tense\")\n",
        "      break\n",
        "        \n",
        "  if f==1:\n",
        "    break\n",
        "\n",
        "if f == 1:\n",
        "    print(\"Verb Found:\", verb_found+verb_suffix)"
      ],
      "execution_count": null,
      "outputs": [
        {
          "output_type": "stream",
          "text": [
            "Enter Sentence in Hindi: \n",
            "मैं पढ़ रहा था\n",
            "Continous Past Tense\n",
            "Verb Found: पढ़ना\n"
          ],
          "name": "stdout"
        }
      ]
    },
    {
      "cell_type": "code",
      "metadata": {
        "id": "oEVcWGBxb3GZ"
      },
      "source": [
        ""
      ],
      "execution_count": null,
      "outputs": []
    }
  ]
}